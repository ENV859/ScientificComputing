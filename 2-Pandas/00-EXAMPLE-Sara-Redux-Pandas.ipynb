{
 "cells": [
  {
   "cell_type": "markdown",
   "metadata": {},
   "source": [
    "## Sara the Turtle: `Pandas` Redux\n",
    "Recalling the script we wrote earlier to process the ARGOS tracking data for Sara the Turtle. Here, we'll demonstrate how another 3rd party package, namely `pandas`, can greatly simplify that task."
   ]
  },
  {
   "cell_type": "code",
   "execution_count": null,
   "metadata": {},
   "outputs": [],
   "source": [
    "#Set the user date (can be switched to be a user input...)\n",
    "userDate = '7/3/2003'"
   ]
  },
  {
   "cell_type": "code",
   "execution_count": null,
   "metadata": {},
   "outputs": [],
   "source": [
    "#Set the location classes used to filter the data. Again, can be an input\n",
    "locClasses = '1','2','3'"
   ]
  },
  {
   "cell_type": "code",
   "execution_count": null,
   "metadata": {},
   "outputs": [],
   "source": [
    "#import the modules\n",
    "import pandas as pd"
   ]
  },
  {
   "cell_type": "code",
   "execution_count": null,
   "metadata": {},
   "outputs": [],
   "source": [
    "#set a variable to the path where the tracking data lives\n",
    "dataFilename = '..\\Data\\Sara.txt'"
   ]
  },
  {
   "cell_type": "code",
   "execution_count": null,
   "metadata": {},
   "outputs": [],
   "source": [
    "#Open the data as a pandas dataframe. \n",
    "df = pd.read_csv(dataFilename,\n",
    "                 comment='#',   #Skip lines that start with '#'\n",
    "                 delimiter='\\t' #Set the delimiter as <tab>\n",
    "                )"
   ]
  },
  {
   "cell_type": "code",
   "execution_count": null,
   "metadata": {},
   "outputs": [],
   "source": [
    "#Create a mask of user dates\n",
    "dateMask = df['utc'].str.startswith(userDate)"
   ]
  },
  {
   "cell_type": "code",
   "execution_count": null,
   "metadata": {},
   "outputs": [],
   "source": [
    "#Create a mask of location classe\n",
    "lcMask = df['lc'].isin(locClasses)"
   ]
  },
  {
   "cell_type": "code",
   "execution_count": null,
   "metadata": {},
   "outputs": [],
   "source": [
    "#Filter the records that match the above masks\n",
    "dfOutput = df[dateMask & lcMask]\n",
    "dfOutput.head()"
   ]
  },
  {
   "cell_type": "code",
   "execution_count": null,
   "metadata": {},
   "outputs": [],
   "source": [
    "print (\"On {}, Sara the turtle was found at:\".format(userDate))\n",
    "for i,row in dfOutput.iterrows():\n",
    "    print('  {0:.3f}° Lat; {1:.3f}° Lon'.format(row['lat1'],row['lon1']))"
   ]
  },
  {
   "cell_type": "markdown",
   "metadata": {},
   "source": [
    "## Mapping the points with the ArcGIS Python API\n",
    "https://developers.arcgis.com/python/latest/guide/tutorials/add-a-point-line-and-polygon/"
   ]
  },
  {
   "cell_type": "code",
   "execution_count": null,
   "metadata": {},
   "outputs": [],
   "source": [
    "#Create the GIS object\n",
    "from arcgis import GIS\n",
    "#Create the point geometry object\n",
    "from arcgis import geometry\n",
    "#Import symbol objects\n",
    "from arcgis.map.symbols import *\n",
    "#Create the PopupInfo object\n",
    "from arcgis.map.popups import PopupInfo\n",
    "#Connect anonymously to ArcGIS Online\n",
    "gis = GIS()"
   ]
  },
  {
   "cell_type": "code",
   "execution_count": null,
   "metadata": {},
   "outputs": [],
   "source": [
    "#Create the map object\n",
    "m = gis.map(\"Onslow Bay, NC\")\n",
    "\n",
    "#Loop through selected records\n",
    "for i,row in dfOutput.iterrows():\n",
    "    \n",
    "    #Create a point, projected to WGS84\n",
    "    thePoint = geometry.Point({\n",
    "        \"x\":row['lon1'],\n",
    "        \"y\":row['lat1'],\n",
    "        \"spatialReference\":{'wkid':'4326'}\n",
    "        })\n",
    "    \n",
    "    point_symbol =  SimpleMarkerSymbolEsriSMS(\n",
    "        style = SimpleMarkerSymbolStyle.esri_sms_circle,\n",
    "        color = [0, 0, 0],\n",
    "        outline = SimpleLineSymbolEsriSLS(color = [255, 255, 255], width = 1),\n",
    "    )\n",
    "\n",
    "    #Draw that point in the map, assigning a popup to that point\n",
    "    m.content.draw(\n",
    "        shape=thePoint,\n",
    "        symbol=point_symbol,\n",
    "        popup=PopupInfo(\n",
    "            title=str(i),\n",
    "            description=str(row['utc']))\n",
    "        )\n",
    "    \n",
    "    #Center the map on the current point\n",
    "    m.center = [row['lat1'],row['lon1']]\n",
    "    \n",
    "#Display the map at zoom level 12, using oceans basemap\n",
    "m.zoom = 7\n",
    "m.content.basemap='oceans'\n",
    "m"
   ]
  }
 ],
 "metadata": {
  "kernelspec": {
   "display_name": "arcgispro-py3",
   "language": "python",
   "name": "python3"
  },
  "language_info": {
   "codemirror_mode": {
    "name": "ipython",
    "version": 3
   },
   "file_extension": ".py",
   "mimetype": "text/x-python",
   "name": "python",
   "nbconvert_exporter": "python",
   "pygments_lexer": "ipython3",
   "version": "3.11.11"
  }
 },
 "nbformat": 4,
 "nbformat_minor": 2
}
